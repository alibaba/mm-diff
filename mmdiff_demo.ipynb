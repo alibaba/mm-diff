{
 "cells": [
  {
   "cell_type": "code",
   "execution_count": null,
   "metadata": {},
   "outputs": [],
   "source": [
    "import os\n",
    "from glob import glob\n",
    "import warnings\n",
    "warnings.filterwarnings(\"ignore\")\n",
    "\n",
    "import numpy as np\n",
    "from PIL import Image\n",
    "\n",
    "import torch\n",
    "from torchvision.utils import make_grid\n",
    "\n",
    "from diffusers import AutoencoderKL\n",
    "from transformers import AutoTokenizer, CLIPImageProcessor\n",
    "from mmdiff import MMDiffStableDiffusionXLPipeline\n",
    "from datasets import PersonalizedDataset"
   ]
  },
  {
   "cell_type": "code",
   "execution_count": null,
   "metadata": {},
   "outputs": [],
   "source": [
    "vae_path = \"madebyollin/sdxl-vae-fp16-fix\"\n",
    "base_model_path = \"stabilityai/stable-diffusion-xl-base-1.0\"\n",
    "image_encoder_path = \"openai/clip-vit-large-patch14\"\n",
    "mmdiff_ckpt = \"checkpoints/portrait_generation\"\n",
    "\n",
    "device = \"cuda\""
   ]
  },
  {
   "cell_type": "code",
   "execution_count": null,
   "metadata": {},
   "outputs": [],
   "source": [
    "image_processor = CLIPImageProcessor()\n",
    "\n",
    "tokenizer_one = AutoTokenizer.from_pretrained(\n",
    "    base_model_path,\n",
    "    subfolder=\"tokenizer\",\n",
    "    use_fast=False,\n",
    "    local_files_only=True,\n",
    ")\n",
    "\n",
    "tokenizer_two = AutoTokenizer.from_pretrained(\n",
    "    base_model_path,\n",
    "    subfolder=\"tokenizer_2\",\n",
    "    use_fast=False,\n",
    "    local_files_only=True,\n",
    ")\n",
    "\n",
    "vae = AutoencoderKL.from_pretrained(\n",
    "    vae_path,\n",
    "    subfolder=None,\n",
    "    torch_dtype=torch.float16,\n",
    "    local_files_only=True\n",
    ")\n",
    "\n",
    "pipeline = MMDiffStableDiffusionXLPipeline.from_pretrained(\n",
    "    base_model_path,\n",
    "    vae=vae,\n",
    "    tokenizer=tokenizer_one,\n",
    "    tokenizer_2=tokenizer_two,\n",
    "    variant=\"fp16\",\n",
    "    torch_dtype=torch.float16,\n",
    "    local_files_only=True,\n",
    ").to(device)\n",
    "\n",
    "pipeline.load_from_checkpoint(image_encoder_path, mmdiff_ckpt, device, fuse_lora=True)"
   ]
  },
  {
   "cell_type": "markdown",
   "metadata": {},
   "source": [
    "### Customized generation with single reference image"
   ]
  },
  {
   "cell_type": "code",
   "execution_count": null,
   "metadata": {},
   "outputs": [],
   "source": [
    "images_ref_root = \"demo_data/Barack Obama\"\n",
    "image_ref_path = sorted(\n",
    "    glob(os.path.join(images_ref_root, \"*.jpg\")) + \\\n",
    "    glob(os.path.join(images_ref_root, \"*.png\")) + \\\n",
    "    glob(os.path.join(images_ref_root, \"*.jpeg\"))\n",
    ")[0]\n",
    "\n",
    "demo_image = Image.open(image_ref_path)\n",
    "w, h = demo_image.size\n",
    "demo_image.resize((int(512 * w / h), 512), resample=3)"
   ]
  },
  {
   "cell_type": "code",
   "execution_count": null,
   "metadata": {},
   "outputs": [],
   "source": [
    "prompt = \"a man<|subj|> in front of the White House\"      # man<|subj|>: class + trigger token\n",
    "negative_prompt = \"longbody, lowres, bad anatomy, bad teeth, bad hands, missing fingers, extra digit, fewer digits, cropped, worst quality, low quality\"\n",
    "num_inference_images = 8\n",
    "generator = torch.Generator(device=device).manual_seed(23)\n",
    "\n",
    "num_inference_steps = 25\n",
    "start_merge_step = 0\n",
    "fuse_scale = 0.8    # weight of image condition\n",
    "\n",
    "inference_dataset = PersonalizedDataset(\n",
    "    prompt=prompt,\n",
    "    images_ref_root=images_ref_root,\n",
    "    tokenizer_one=tokenizer_one,\n",
    "    tokenizer_two=tokenizer_two,\n",
    "    image_processor=image_processor,\n",
    "    max_num_objects=1,\n",
    ")\n",
    "images_ref = inference_dataset.prepare_data()\n",
    "\n",
    "samples_tensor = []\n",
    "for _ in range(num_inference_images):\n",
    "    image = pipeline(\n",
    "        prompt=prompt,\n",
    "        images_ref=images_ref,\n",
    "        negative_prompt=negative_prompt,\n",
    "        num_inference_steps=num_inference_steps,\n",
    "        start_merge_step=start_merge_step,\n",
    "        fuse_scale=fuse_scale,\n",
    "        guidance_scale=5.0,\n",
    "        generator=generator,\n",
    "        height=512,\n",
    "        width=512,\n",
    "    ).images[0]\n",
    "    samples_tensor.append(torch.from_numpy(np.array(image)).permute(2, 0, 1))\n",
    "\n",
    "\n",
    "grid = torch.stack(samples_tensor, 0)\n",
    "grid = make_grid(grid, nrow=4)\n",
    "grid = grid.permute(1, 2, 0).numpy()\n",
    "Image.fromarray(grid.astype(np.uint8))"
   ]
  }
 ],
 "metadata": {
  "kernelspec": {
   "display_name": "base",
   "language": "python",
   "name": "python3"
  },
  "language_info": {
   "codemirror_mode": {
    "name": "ipython",
    "version": 3
   },
   "file_extension": ".py",
   "mimetype": "text/x-python",
   "name": "python",
   "nbconvert_exporter": "python",
   "pygments_lexer": "ipython3",
   "version": "3.10.8"
  }
 },
 "nbformat": 4,
 "nbformat_minor": 2
}
